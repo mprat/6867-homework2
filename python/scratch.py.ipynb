{
 "metadata": {
  "name": "",
  "signature": "sha256:913f9c55d79454cda63525e93b85884bca1f813be26065821bd2bfd4eb6022b2"
 },
 "nbformat": 3,
 "nbformat_minor": 0,
 "worksheets": [
  {
   "cells": [
    {
     "cell_type": "markdown",
     "metadata": {},
     "source": [
      "Exercise 1.1: making SVM. First test out the off-the-shelf optimizer, cvxopt"
     ]
    },
    {
     "cell_type": "code",
     "collapsed": false,
     "input": [
      "import numpy as np\n",
      "from cvxopt import matrix, solvers"
     ],
     "language": "python",
     "metadata": {},
     "outputs": [],
     "prompt_number": 1
    },
    {
     "cell_type": "code",
     "collapsed": false,
     "input": [
      "data = np.loadtxt('../problemset/HW2_handout/data/small_example.csv')\n",
      "c = 1\n",
      "y = data[:, -1] # y (class) vectors\n",
      "x = data[:, :-1]\n",
      "n = shape(data)[0]\n",
      "# print \"x data = \\n\", data[:, :-1]\n",
      "k = np.dot(x, x.T) # basically the \"kernel matrix\"\n",
      "# print \"kernel = \\n\", k\n",
      "P = matrix(k * np.multiply.outer(y, y))\n",
      "# print \"P = \\n\", P\n",
      "q = matrix(-1*np.ones(n))\n",
      "# print \"q = \\n\", q\n",
      "G = matrix(np.concatenate((np.eye(n), -1*np.eye(n))))\n",
      "# print \"G = \\n\", G\n",
      "h = matrix(np.concatenate((np.tile(c, n), np.tile(0, n))), tc='d')\n",
      "# print \"h = \\n\", h\n",
      "# A = matrix(np.diag(y))\n",
      "A = matrix(y, (1, n)) #something is wrong here?\n",
      "# print \"A = \\n\", A\n",
      "# b = matrix(np.zeros(n))\n",
      "b = matrix(0.0)\n",
      "# print \"b = \\n\", b\n",
      "solution = solvers.qp(P, q, G, h, A, b)\n",
      "alphas = np.array(solution['x'])\n",
      "w = np.sum((x.T*y)*alphas.flatten(), axis=1) # or more likely here?\n",
      "zero_thresh = 0.000001\n",
      "y = np.reshape(y, (-1, 1))\n",
      "k_alpha = np.dot(x, np.where(alphas > zero_thresh, x, 0).T)\n",
      "w0 = (sum(np.where(alphas > zero_thresh, y, 0))-1*np.sum((k_alpha.T*y*alphas).T)) / np.sum(alphas > zero_thresh)\n",
      "print \"alphas = \", alphas\n",
      "print \"w0 = \", w0\n",
      "print \"w = \", w"
     ],
     "language": "python",
     "metadata": {},
     "outputs": [
      {
       "output_type": "stream",
       "stream": "stdout",
       "text": [
        "     pcost       dcost       gap    pres   dres\n",
        " 0: -4.8621e-01 -5.7008e+00  5e+00  3e-17  7e-16\n",
        " 1: -5.2063e-01 -6.3338e-01  1e-01  2e-16  5e-16\n",
        " 2: -5.3043e-01 -5.3181e-01  1e-03  2e-16  5e-16\n",
        " 3: -5.3061e-01 -5.3062e-01  1e-05  2e-16  3e-16\n",
        " 4: -5.3061e-01 -5.3061e-01  1e-07  2e-16  2e-16\n",
        "Optimal solution found.\n",
        "alphas =  [[  5.30612242e-01]\n",
        " [  2.10445869e-08]\n",
        " [  3.67346941e-01]\n",
        " [  1.63265321e-01]]\n",
        "w0 =  -1.95238083937\n",
        "w =  [ 0.85714293  0.57142856]\n"
       ]
      }
     ],
     "prompt_number": 58
    },
    {
     "cell_type": "code",
     "collapsed": false,
     "input": [
      "fig = plt.figure() \n",
      "ax = fig.add_subplot(111)\n",
      "ax.plot(x[np.where(y == 1)[0], 0], x[np.where(y == 1)[0], 1], 'o')\n",
      "ax.plot(x[np.where(y == -1)[0], 0], x[np.where(y == -1)[0], 1], 's')\n",
      "r = np.arange(-5, 5, 0.2)\n",
      "ax.plot(r, w0 + (w[0]*r)/w[1])\n",
      "ax.set_xlim([-5, 5])\n",
      "ax.set_ylim([-5, 5])"
     ],
     "language": "python",
     "metadata": {},
     "outputs": [
      {
       "metadata": {},
       "output_type": "pyout",
       "prompt_number": 108,
       "text": [
        "(-5, 5)"
       ]
      },
      {
       "metadata": {},
       "output_type": "display_data",
       "png": "[encoded data removed]",
       "text": [
        "<matplotlib.figure.Figure at 0x113028390>"
       ]
      }
     ],
     "prompt_number": 108
    },
    {
     "cell_type": "code",
     "collapsed": false,
     "input": [
      "print x"
     ],
     "language": "python",
     "metadata": {},
     "outputs": [
      {
       "output_type": "stream",
       "stream": "stdout",
       "text": [
        "[[ 1.  2.]\n",
        " [ 2.  2.]\n",
        " [ 0.  0.]\n",
        " [-2.  3.]]\n"
       ]
      }
     ],
     "prompt_number": 99
    },
    {
     "cell_type": "code",
     "collapsed": false,
     "input": [
      "np.where(y == 1)[0]"
     ],
     "language": "python",
     "metadata": {},
     "outputs": [
      {
       "metadata": {},
       "output_type": "pyout",
       "prompt_number": 95,
       "text": [
        "array([0, 1])"
       ]
      }
     ],
     "prompt_number": 95
    }
   ],
   "metadata": {}
  }
 ]
}