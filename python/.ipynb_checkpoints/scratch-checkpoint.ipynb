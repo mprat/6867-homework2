{
 "metadata": {
  "name": "",
  "signature": "sha256:1b987dbd3dc194ba60af97aebdaa549434fed98c0c4d9d4ec6370cd7bd0d5f1b"
 },
 "nbformat": 3,
 "nbformat_minor": 0,
 "worksheets": [
  {
   "cells": [
    {
     "cell_type": "markdown",
     "metadata": {},
     "source": [
      "Exercise 1.1: making SVM. First test out the off-the-shelf optimizer, cvxopt"
     ]
    },
    {
     "cell_type": "code",
     "collapsed": false,
     "input": [
      "import numpy as np\n",
      "from cvxopt import matrix, solvers"
     ],
     "language": "python",
     "metadata": {},
     "outputs": [],
     "prompt_number": 1
    },
    {
     "cell_type": "code",
     "collapsed": false,
     "input": [
      "def file_to_x_y(filename):\n",
      "    data = np.loadtxt('../problemset/HW2_handout/data/' + filename)\n",
      "    y = data[:, -1] # y (class) vectors\n",
      "    x = data[:, :-1]\n",
      "    return x, y\n",
      "\n",
      "def get_svm_ws(x, y, c):\n",
      "    n = shape(x)[0]\n",
      "    # print \"x data = \\n\", data[:, :-1]\n",
      "    k = np.dot(x, x.T) # basically the \"kernel matrix\"\n",
      "    # print \"kernel = \\n\", k\n",
      "    P = matrix(k * np.multiply.outer(y, y))\n",
      "    # print \"P = \\n\", P\n",
      "    q = matrix(-1*np.ones(n))\n",
      "    # print \"q = \\n\", q\n",
      "    G = matrix(np.concatenate((np.eye(n), -1*np.eye(n))))\n",
      "    # print \"G = \\n\", G\n",
      "    h = matrix(np.concatenate((np.tile(c, n), np.tile(0, n))), tc='d')\n",
      "    A = matrix(y, (1, n))\n",
      "    b = matrix(0.0)\n",
      "    solvers.options['abstol'] = 1e-10\n",
      "    solvers.options['reltol'] = 1e-10\n",
      "    solvers.options['feastol'] = 1e-10\n",
      "    solution = solvers.qp(P, q, G, h, A, b)\n",
      "    alphas = np.array(solution['x'])\n",
      "    print alphas\n",
      "    w = np.sum((x.T*y)*alphas.flatten(), axis=1)\n",
      "    zero_thresh = 1e-8\n",
      "    y = np.reshape(y, (-1, 1))\n",
      "    x_support = np.where(abs(alphas - (c + zero_thresh)/2.0) < (c - zero_thresh)/2.0, x, 0)\n",
      "    k_alpha = np.dot(x_support, x.T)\n",
      "    w0 = np.array([(sum(np.where(abs(alphas - (c + zero_thresh)/2.0) < (c - zero_thresh)/2.0, y, 0)) - sum(k_alpha * y * alphas)) / sum(np.where(abs(alphas - (c + zero_thresh)/2.0) < (c - zero_thresh)/2.0))])\n",
      "    # print \"alphas = \", alphas\n",
      "    # print \"w0 = \", w0\n",
      "    # print \"w = \", w\n",
      "    return np.concatenate((w0, w))"
     ],
     "language": "python",
     "metadata": {},
     "outputs": [],
     "prompt_number": 182
    },
    {
     "cell_type": "code",
     "collapsed": false,
     "input": [
      "# def w_to_plotfunc(w):\n",
      "#     return lambda x: -1*(w[0] + w[1]*x)/w[2]\n",
      "\n",
      "def to_class_func(w):\n",
      "    return lambda x: w[0] + w[1] * x[0] + w[2] * x[1]"
     ],
     "language": "python",
     "metadata": {},
     "outputs": [],
     "prompt_number": 181
    },
    {
     "cell_type": "code",
     "collapsed": false,
     "input": [
      "# X is data matrix (each row is a data point)\n",
      "# Y is desired output (1 or -1)\n",
      "# scoreFn is a function of a data point\n",
      "# values is a list of values to plot\n",
      "def plotDecisionBoundary(X, Y, scoreFn, values, title = \"\"):\n",
      "    # Plot the decision boundary. For that, we will asign a score to\n",
      "    # each point in the mesh [x_min, m_max]x[y_min, y_max].\n",
      "    x_min, x_max = X[:, 0].min() - 1, X[:, 0].max() + 1\n",
      "    y_min, y_max = X[:, 1].min() - 1, X[:, 1].max() + 1\n",
      "    h = max((x_max-x_min)/10., (y_max-y_min)/10.)\n",
      "    xx, yy = np.meshgrid(np.arange(x_min, x_max, h),\n",
      "                      np.arange(y_min, y_max, h))\n",
      "    zz = np.array([scoreFn(x) for x in c_[np.ravel(xx), np.ravel(yy)]])\n",
      "#     print zz\n",
      "#     print xx.shape[0] * xx.shape[1]\n",
      "#     print zz.shape[0] * zz.shape[1]\n",
      "    zz = np.reshape(zz, xx.shape)\n",
      "    plt.figure()\n",
      "    CS = plt.contour(xx, yy, zz, values, colors = 'green', linestyles = 'solid', linewidths = 2)\n",
      "#     plt.clabel(CS, fontsize=9, inline=1)\n",
      "#     Plot the training points\n",
      "    plt.scatter(X[:, 0], X[:, 1], c=(1.-Y), s=50, cmap = plt.cm.cool)\n",
      "    plt.title(title)\n",
      "    plt.axis('tight')"
     ],
     "language": "python",
     "metadata": {},
     "outputs": [],
     "prompt_number": 178
    },
    {
     "cell_type": "code",
     "collapsed": false,
     "input": [
      "x, y = file_to_x_y('small_example.csv')\n",
      "w = get_svm_ws(x, y, 1)\n",
      "plotDecisionBoundary(x, y, to_class_func(w), 1, 'Small example: 1.1')"
     ],
     "language": "python",
     "metadata": {},
     "outputs": [
      {
       "output_type": "stream",
       "stream": "stdout",
       "text": [
        "     pcost       dcost       gap    pres   dres\n",
        " 0: -4.8621e-01 -5.7008e+00  5e+00  3e-17  7e-16\n",
        " 1: -5.2063e-01 -6.3338e-01  1e-01  2e-16  5e-16\n",
        " 2: -5.3043e-01 -5.3181e-01  1e-03  2e-16  5e-16\n",
        " 3: -5.3061e-01 -5.3062e-01  1e-05  2e-16  3e-16\n",
        " 4: -5.3061e-01 -5.3061e-01  1e-07  2e-16  2e-16\n",
        " 5: -5.3061e-01 -5.3061e-01  1e-09  2e-16  9e-17\n",
        " 6: -5.3061e-01 -5.3061e-01  1e-11  1e-16  3e-16\n",
        "Optimal solution found.\n",
        "[[  5.30612245e-01]\n",
        " [  2.10445869e-12]\n",
        " [  3.67346939e-01]\n",
        " [  1.63265306e-01]]\n"
       ]
      },
      {
       "metadata": {},
       "output_type": "display_data",
       "png": "[encoded data removed]",
       "text": [
        "<matplotlib.figure.Figure at 0x10a26f090>"
       ]
      }
     ],
     "prompt_number": 177
    },
    {
     "cell_type": "markdown",
     "metadata": {},
     "source": [
      "Exercise 1.2"
     ]
    },
    {
     "cell_type": "code",
     "collapsed": false,
     "input": [],
     "language": "python",
     "metadata": {},
     "outputs": []
    }
   ],
   "metadata": {}
  }
 ]
}