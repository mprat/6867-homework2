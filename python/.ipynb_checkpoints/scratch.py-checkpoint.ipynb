{
 "metadata": {
  "name": "",
  "signature": "sha256:3eaf0001953326f483bee65fac43dc8085b12678e32bc93455a05cd21101b3de"
 },
 "nbformat": 3,
 "nbformat_minor": 0,
 "worksheets": [
  {
   "cells": [
    {
     "cell_type": "markdown",
     "metadata": {},
     "source": [
      "Exercise 1.1: making SVM. First test out the off-the-shelf optimizer, cvxopt"
     ]
    },
    {
     "cell_type": "code",
     "collapsed": false,
     "input": [
      "import numpy as np\n",
      "from cvxopt import matrix, solvers"
     ],
     "language": "python",
     "metadata": {},
     "outputs": [],
     "prompt_number": 3
    },
    {
     "cell_type": "code",
     "collapsed": false,
     "input": [
      "data = np.loadtxt('../problemset/HW2_handout/data/small_example.csv')\n",
      "c = 1\n",
      "y = data[:, -1] # y (class) vectors\n",
      "x = data[:, :-1]\n",
      "n = shape(data)[0]\n",
      "# print \"x data = \\n\", data[:, :-1]\n",
      "k = np.dot(x, x.T) # basically the \"kernel matrix\"\n",
      "# print \"kernel = \\n\", k\n",
      "P = matrix(k * np.multiply.outer(y, y))\n",
      "# print \"P = \\n\", P\n",
      "q = matrix(-1*np.ones(n))\n",
      "# print \"q = \\n\", q\n",
      "G = matrix(np.concatenate((np.eye(n), -1*np.eye(n))))\n",
      "# print \"G = \\n\", G\n",
      "h = matrix(np.concatenate((np.tile(c, n), np.tile(0, n))), tc='d')\n",
      "# print \"h = \\n\", h\n",
      "A = matrix(np.diag(y))\n",
      "# print \"A = \\n\", A\n",
      "b = matrix(np.zeros(n))\n",
      "# print \"b = \\n\", b\n",
      "solution = solvers.qp(P, q, G, h, A, b)\n",
      "alphas = np.array(solution['x'])\n",
      "w = np.sum((x.T*y)*alphas.flatten(), axis=1)\n",
      "print alphas\n",
      "print w"
     ],
     "language": "python",
     "metadata": {},
     "outputs": [
      {
       "output_type": "stream",
       "stream": "stdout",
       "text": [
        "     pcost       dcost       gap    pres   dres\n",
        " 0:  0.0000e+00 -4.0000e+00  2e+01  1e+00  0e+00\n",
        " 1:  3.4757e-17 -1.0377e+00  1e+00  1e-02  5e-16\n",
        " 2:  5.6406e-19 -1.0478e-02  1e-02  1e-04  3e-16\n",
        " 3:  5.6925e-21 -1.0478e-04  1e-04  1e-06  0e+00\n",
        " 4:  5.6926e-23 -1.0478e-06  1e-06  1e-08  3e-16\n",
        " 5:  5.6926e-25 -1.0478e-08  1e-08  1e-10  7e-16\n",
        "Optimal solution found.\n",
        "[[  2.38278658e-25]\n",
        " [  2.31386830e-27]\n",
        " [  3.26290628e-25]\n",
        " [  2.37684045e-27]]\n",
        "[  2.47660075e-25   4.74054531e-25]\n"
       ]
      }
     ],
     "prompt_number": 167
    },
    {
     "cell_type": "code",
     "collapsed": false,
     "input": [
      "x = data[:,:-1]\n",
      "print (x.T*y)*alphas.flatten()\n"
     ],
     "language": "python",
     "metadata": {},
     "outputs": [
      {
       "output_type": "stream",
       "stream": "stdout",
       "text": [
        "[[  5.78005305e-25   1.05362728e-25  -0.00000000e+00  -6.69451978e-25]\n",
        " [  1.15601061e-24   1.05362728e-25  -0.00000000e+00   1.00417797e-24]]\n",
        "[  1.39160550e-26   2.26555131e-24]\n"
       ]
      }
     ],
     "prompt_number": 159
    },
    {
     "cell_type": "code",
     "collapsed": false,
     "input": [],
     "language": "python",
     "metadata": {},
     "outputs": []
    },
    {
     "cell_type": "code",
     "collapsed": false,
     "input": [],
     "language": "python",
     "metadata": {},
     "outputs": []
    }
   ],
   "metadata": {}
  }
 ]
}